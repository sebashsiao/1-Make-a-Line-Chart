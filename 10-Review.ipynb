{
 "cells": [
  {
   "cell_type": "markdown",
   "metadata": {},
   "source": [
    "# Review\n",
    "\n",
    "Nice work, we’ve made it to the end of this lesson! We learned about the general structure of charts in matplotlib and made a line chart from start to finish. We learned that…\n",
    "\n",
    "- general functions allow us to change general aspects of the graph, like its title, legend, or axis scaling and labels\n",
    "- graph functions like `plt.plot()` and `plt.scatter()` generate specific types of charts\n",
    "- stacking graph functions and general functions will build and customize many different charts\n",
    "\n",
    "We made a line chart using `plt.plot()`, changed the line `colors` using the color parameter, and covered the following general functions: `plt.title()`, `plt.xlabel` and plt.`ylabel()`, `plt.legend()`, and `plt.savefig()`."
   ]
  },
  {
   "cell_type": "markdown",
   "metadata": {},
   "source": []
  }
 ],
 "metadata": {
  "language_info": {
   "name": "python"
  }
 },
 "nbformat": 4,
 "nbformat_minor": 2
}
